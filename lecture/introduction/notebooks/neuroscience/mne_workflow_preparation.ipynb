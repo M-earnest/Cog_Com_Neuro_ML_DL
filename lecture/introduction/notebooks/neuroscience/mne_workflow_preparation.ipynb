{
 "cells": [
  {
   "cell_type": "markdown",
   "id": "2a2f20ac",
   "metadata": {},
   "source": [
    "## MNE workflow tutorial preparation"
   ]
  },
  {
   "cell_type": "markdown",
   "id": "020b354a",
   "metadata": {},
   "source": [
    "<br/>\n",
    "\n",
    "For the MNE_worklflow_tutorial we'll be working with data from a public dataset. As we don't want to download multiple GB of data for a simple tutorial we'll have to download the Data by hand. If you followed the instructions below, your folder structure should look like this:"
   ]
  },
  {
   "cell_type": "code",
   "execution_count": 1,
   "id": "c18aaad7",
   "metadata": {},
   "outputs": [
    {
     "name": "stdout",
     "output_type": "stream",
     "text": [
      "|msc_05/\n",
      "|--- MMN/\n",
      "|------ LICENSE\n",
      "|------ README_MMN.txt\n",
      "|------ dataset_description.json\n",
      "|------ participants.json\n",
      "|------ derivatives/\n",
      "|--------- epochs.tsv\n",
      "|--------- Stimuli/\n",
      "|------------ deviant_stereo.wav\n",
      "|------------ standard_stereo.wav\n",
      "|------------ video.avi\n",
      "|------ sub-021/\n",
      "|--------- eeg/\n",
      "|------------ sub-021_task-MMN_channels.tsv\n",
      "|------------ sub-021_task-MMN_coordsystem.json\n",
      "|------------ sub-021_task-MMN_eeg.fdt\n",
      "|------------ sub-021_task-MMN_eeg.json\n",
      "|------------ sub-021_task-MMN_eeg.set\n",
      "|------------ sub-021_task-MMN_electrodes.tsv\n",
      "|------------ sub-021_task-MMN_events.tsv\n"
     ]
    }
   ],
   "source": [
    "from mne_bids import print_dir_tree\n",
    "\n",
    "dir_tree = '/home/michael/msc_05'  # if you run this yoursel replace \"michael\" with your name of course\n",
    "print_dir_tree(dir_tree, max_depth=4)"
   ]
  },
  {
   "cell_type": "markdown",
   "id": "bebaf178",
   "metadata": {},
   "source": [
    "\n",
    "**1.** Create a folder called **msc_05** in your home directory\n",
    "\n",
    "```{figure} ../../../static/neuroscience/mmn-folder.png\n",
    "---\n",
    "width: 600px\n",
    "name: mmn-folder\n",
    "---\n",
    "\n",
    "\n",
    "```\n",
    "\n",
    "**2.** Create the folders **sub-21** and **derivatives**\n",
    "\n",
    "```{figure} ../../../static/neuroscience/sub-21_folder.png\n",
    "---\n",
    "width: 600px\n",
    "name: sub-folder\n",
    "---\n",
    "\n",
    "\n",
    "```\n",
    "\n",
    "**3.** Create folder **eeg** in folder sub-21\n",
    "\n",
    "```{figure} ../../../static/neuroscience/sub-21_eeg.png\n",
    "---\n",
    "width: 600px\n",
    "name: eeg-folder\n",
    "---\n",
    "\n",
    "\n",
    "```\n",
    "\n",
    "**4.** Navigate to the <a href=\"https://osf.io/5q4xs/\" title=\"https://osf.io/5q4xs/\">OSF directory of the ERP-Core dataset containing the MMN data\n",
    "</a>\n",
    "\n",
    "```{figure} ../../../static/neuroscience/osf_repo.png\n",
    "---\n",
    "width: 600px\n",
    "name: OSF\n",
    "---\n",
    "\n",
    "\n",
    "```\n",
    "\n",
    "**5.** Open the **MMN Raw Data BIDS-compatible folder**\n",
    "\n",
    "```{figure} ../../../static/neuroscience/bids_folder.png\n",
    "---\n",
    "width: 600px\n",
    "name: MMN Raw Data BIDS-compatible folder\n",
    "---\n",
    "\n",
    "\n",
    "```\n",
    "\n",
    "**6.** Download all files for sub_21 and move them into the _eeg_ folder\n",
    "\n",
    "```{figure} ../../../static/neuroscience/sub-21_eeg_files.png\n",
    "---\n",
    "width: 600px\n",
    "name: sub-21 files\n",
    "---\n",
    "\n",
    "\n",
    "```\n",
    "\n",
    "```{figure} ../../../static/neuroscience/sub-21_eeg_contents.png\n",
    "---\n",
    "width: 600px\n",
    "name: eeg-folder filled\n",
    "---\n",
    "\n",
    "\n",
    "```\n",
    "\n"
   ]
  }
 ],
 "metadata": {
  "kernelspec": {
   "display_name": "Python 3 (ipykernel)",
   "language": "python",
   "name": "python3"
  },
  "language_info": {
   "codemirror_mode": {
    "name": "ipython",
    "version": 3
   },
   "file_extension": ".py",
   "mimetype": "text/x-python",
   "name": "python",
   "nbconvert_exporter": "python",
   "pygments_lexer": "ipython3",
   "version": "3.7.0"
  }
 },
 "nbformat": 4,
 "nbformat_minor": 5
}
